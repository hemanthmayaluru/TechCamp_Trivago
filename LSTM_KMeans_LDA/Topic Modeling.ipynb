{
 "cells": [
  {
   "cell_type": "code",
   "execution_count": 1,
   "metadata": {},
   "outputs": [
    {
     "name": "stderr",
     "output_type": "stream",
     "text": [
      "C:\\Users\\Barshana\\Anaconda3\\envs\\py36\\lib\\site-packages\\gensim\\utils.py:1197: UserWarning: detected Windows; aliasing chunkize to chunkize_serial\n",
      "  warnings.warn(\"detected Windows; aliasing chunkize to chunkize_serial\")\n"
     ]
    }
   ],
   "source": [
    "import re\n",
    "import numpy as np\n",
    "import pandas as pd\n",
    "from pprint import pprint\n",
    "\n",
    "# Gensim\n",
    "import gensim\n",
    "import gensim.corpora as corpora\n",
    "from gensim.utils import simple_preprocess\n",
    "from gensim.models import CoherenceModel\n",
    "\n",
    "# spacy for lemmatization\n",
    "import spacy\n",
    "\n",
    "# Plotting tools\n",
    "import pyLDAvis\n",
    "import pyLDAvis.gensim  # don't skip this\n",
    "import matplotlib.pyplot as plt\n",
    "%matplotlib inline"
   ]
  },
  {
   "cell_type": "code",
   "execution_count": 2,
   "metadata": {},
   "outputs": [
    {
     "name": "stdout",
     "output_type": "stream",
     "text": [
      "675\n"
     ]
    }
   ],
   "source": [
    "from nltk.corpus import stopwords\n",
    "stop_words = stopwords.words('english')\n",
    "stop_words.extend(stopwords.words('spanish'))\n",
    "stop_words.extend(stopwords.words('french'))\n",
    "newStopWords=['area','flat_screen','comfortable','place','large','city','good','beautiful',\n",
    "              'comfort','modern','great','family','holiday','new','offer','experience','people',\n",
    "              'perfect','popular','mountain','luxury','small','spacious','ideal',\n",
    "              'stay','high']\n",
    "stop_words.extend(newStopWords)\n",
    "print(len(stop_words))"
   ]
  },
  {
   "cell_type": "code",
   "execution_count": 3,
   "metadata": {},
   "outputs": [
    {
     "data": {
      "text/html": [
       "<div>\n",
       "<style scoped>\n",
       "    .dataframe tbody tr th:only-of-type {\n",
       "        vertical-align: middle;\n",
       "    }\n",
       "\n",
       "    .dataframe tbody tr th {\n",
       "        vertical-align: top;\n",
       "    }\n",
       "\n",
       "    .dataframe thead th {\n",
       "        text-align: right;\n",
       "    }\n",
       "</style>\n",
       "<table border=\"1\" class=\"dataframe\">\n",
       "  <thead>\n",
       "    <tr style=\"text-align: right;\">\n",
       "      <th></th>\n",
       "      <th>item_id</th>\n",
       "      <th>at</th>\n",
       "      <th>basename</th>\n",
       "      <th>web</th>\n",
       "      <th>hotel_chain</th>\n",
       "    </tr>\n",
       "  </thead>\n",
       "  <tbody>\n",
       "    <tr>\n",
       "      <th>1</th>\n",
       "      <td>2147326</td>\n",
       "      <td>2</td>\n",
       "      <td>Coral Tree</td>\n",
       "      <td>www.goldfinchhotels.com</td>\n",
       "      <td>0</td>\n",
       "    </tr>\n",
       "    <tr>\n",
       "      <th>2</th>\n",
       "      <td>1828547</td>\n",
       "      <td>2</td>\n",
       "      <td>Amsterdam</td>\n",
       "      <td>http://amsterdam.bg/</td>\n",
       "      <td>0</td>\n",
       "    </tr>\n",
       "    <tr>\n",
       "      <th>3</th>\n",
       "      <td>5742186</td>\n",
       "      <td>2</td>\n",
       "      <td>Tiradentes</td>\n",
       "      <td>http://hosteltiradentes.wixsite.com/tiradentes</td>\n",
       "      <td>0</td>\n",
       "    </tr>\n",
       "    <tr>\n",
       "      <th>4</th>\n",
       "      <td>2021209</td>\n",
       "      <td>2</td>\n",
       "      <td>Garni G Hotel Bratislava</td>\n",
       "      <td>http://www.doprastavservices.sk/g_h_ba/g_h_ba....</td>\n",
       "      <td>0</td>\n",
       "    </tr>\n",
       "    <tr>\n",
       "      <th>5</th>\n",
       "      <td>1350676</td>\n",
       "      <td>2</td>\n",
       "      <td>Château De Pourtales</td>\n",
       "      <td>www.chateau-pourtales.eu</td>\n",
       "      <td>0</td>\n",
       "    </tr>\n",
       "  </tbody>\n",
       "</table>\n",
       "</div>"
      ],
      "text/plain": [
       "   item_id  at                  basename  \\\n",
       "1  2147326   2                Coral Tree   \n",
       "2  1828547   2                 Amsterdam   \n",
       "3  5742186   2                Tiradentes   \n",
       "4  2021209   2  Garni G Hotel Bratislava   \n",
       "5  1350676   2      Château De Pourtales   \n",
       "\n",
       "                                                 web  hotel_chain  \n",
       "1                            www.goldfinchhotels.com            0  \n",
       "2                               http://amsterdam.bg/            0  \n",
       "3     http://hosteltiradentes.wixsite.com/tiradentes            0  \n",
       "4  http://www.doprastavservices.sk/g_h_ba/g_h_ba....            0  \n",
       "5                           www.chateau-pourtales.eu            0  "
      ]
     },
     "execution_count": 3,
     "metadata": {},
     "output_type": "execute_result"
    }
   ],
   "source": [
    "df = pd.read_csv('acc_type_dataset.csv',sep=';',index_col=0)\n",
    "items = df['basename'].tolist()\n",
    "df.head()"
   ]
  },
  {
   "cell_type": "code",
   "execution_count": 4,
   "metadata": {},
   "outputs": [
    {
     "data": {
      "text/html": [
       "<div>\n",
       "<style scoped>\n",
       "    .dataframe tbody tr th:only-of-type {\n",
       "        vertical-align: middle;\n",
       "    }\n",
       "\n",
       "    .dataframe tbody tr th {\n",
       "        vertical-align: top;\n",
       "    }\n",
       "\n",
       "    .dataframe thead th {\n",
       "        text-align: right;\n",
       "    }\n",
       "</style>\n",
       "<table border=\"1\" class=\"dataframe\">\n",
       "  <thead>\n",
       "    <tr style=\"text-align: right;\">\n",
       "      <th></th>\n",
       "      <th>accommodation_id</th>\n",
       "      <th>basename</th>\n",
       "      <th>at</th>\n",
       "      <th>description</th>\n",
       "      <th>value_type_id</th>\n",
       "      <th>amenities_id</th>\n",
       "      <th>amenities_cont</th>\n",
       "    </tr>\n",
       "  </thead>\n",
       "  <tbody>\n",
       "    <tr>\n",
       "      <th>0</th>\n",
       "      <td>5088</td>\n",
       "      <td>Hotel Sonne</td>\n",
       "      <td>2</td>\n",
       "      <td>Set in a prime location of Waldbronn, Hotel So...</td>\n",
       "      <td>1</td>\n",
       "      <td>[47]</td>\n",
       "      <td>[1]</td>\n",
       "    </tr>\n",
       "    <tr>\n",
       "      <th>1</th>\n",
       "      <td>5092</td>\n",
       "      <td>Steuermann</td>\n",
       "      <td>2</td>\n",
       "      <td>Ideally located in the prime touristic area of...</td>\n",
       "      <td>1</td>\n",
       "      <td>[63, 47]</td>\n",
       "      <td>[1, 1]</td>\n",
       "    </tr>\n",
       "    <tr>\n",
       "      <th>2</th>\n",
       "      <td>5323</td>\n",
       "      <td>Hotel Montree</td>\n",
       "      <td>2</td>\n",
       "      <td>Hotel Montree is conveniently located in the p...</td>\n",
       "      <td>1</td>\n",
       "      <td>[63, 48]</td>\n",
       "      <td>[1, 1]</td>\n",
       "    </tr>\n",
       "    <tr>\n",
       "      <th>3</th>\n",
       "      <td>5434</td>\n",
       "      <td>Weidenhof</td>\n",
       "      <td>2</td>\n",
       "      <td>The Weidenhof is a well-situated Hotel in Rege...</td>\n",
       "      <td>1</td>\n",
       "      <td>[48]</td>\n",
       "      <td>[1]</td>\n",
       "    </tr>\n",
       "    <tr>\n",
       "      <th>4</th>\n",
       "      <td>5668</td>\n",
       "      <td>East-Side</td>\n",
       "      <td>3</td>\n",
       "      <td>This guest house is located in Berlin’s trendy...</td>\n",
       "      <td>1</td>\n",
       "      <td>[255]</td>\n",
       "      <td>[1]</td>\n",
       "    </tr>\n",
       "  </tbody>\n",
       "</table>\n",
       "</div>"
      ],
      "text/plain": [
       "   accommodation_id       basename  at  \\\n",
       "0              5088    Hotel Sonne   2   \n",
       "1              5092     Steuermann   2   \n",
       "2              5323  Hotel Montree   2   \n",
       "3              5434      Weidenhof   2   \n",
       "4              5668      East-Side   3   \n",
       "\n",
       "                                         description  value_type_id  \\\n",
       "0  Set in a prime location of Waldbronn, Hotel So...              1   \n",
       "1  Ideally located in the prime touristic area of...              1   \n",
       "2  Hotel Montree is conveniently located in the p...              1   \n",
       "3  The Weidenhof is a well-situated Hotel in Rege...              1   \n",
       "4  This guest house is located in Berlin’s trendy...              1   \n",
       "\n",
       "  amenities_id amenities_cont  \n",
       "0         [47]            [1]  \n",
       "1     [63, 47]         [1, 1]  \n",
       "2     [63, 48]         [1, 1]  \n",
       "3         [48]            [1]  \n",
       "4        [255]            [1]  "
      ]
     },
     "execution_count": 4,
     "metadata": {},
     "output_type": "execute_result"
    }
   ],
   "source": [
    "df = pd.read_csv('Final sample Gettech.csv',sep=';',index_col=0)\n",
    "df_test = df.groupby(['accommodation_id','basename','at','description','value_type_id'])['amenities_id'].apply(list)\n",
    "df_test = df_test.to_frame().reset_index()\n",
    "df_test2 = df.groupby(['accommodation_id','basename','at','description','value_type_id'])['amenities_cont'].apply(list)\n",
    "df_test2 = df_test2.to_frame().reset_index()\n",
    "final_df = pd.merge(df_test, df_test2[[\"accommodation_id\", \"amenities_cont\"]], on=\"accommodation_id\", how=\"left\")\n",
    "final_df.to_csv('processed_csv_file.csv', sep='\\t', encoding='utf-8')\n",
    "final_df.head()"
   ]
  },
  {
   "cell_type": "code",
   "execution_count": 5,
   "metadata": {},
   "outputs": [],
   "source": [
    "item_names = final_df['basename'].tolist()\n",
    "item_descriptions = final_df['description'].tolist()\n",
    "item_at = final_df['at'].tolist()"
   ]
  },
  {
   "cell_type": "code",
   "execution_count": 6,
   "metadata": {},
   "outputs": [
    {
     "name": "stderr",
     "output_type": "stream",
     "text": [
      "IOPub data rate exceeded.\n",
      "The notebook server will temporarily stop sending output\n",
      "to the client in order to avoid crashing it.\n",
      "To change this limit, set the config variable\n",
      "`--NotebookApp.iopub_data_rate_limit`.\n",
      "\n",
      "Current values:\n",
      "NotebookApp.iopub_data_rate_limit=1000000.0 (bytes/sec)\n",
      "NotebookApp.rate_limit_window=3.0 (secs)\n",
      "\n"
     ]
    },
    {
     "name": "stdout",
     "output_type": "stream",
     "text": [
      "\n"
     ]
    }
   ],
   "source": [
    "def sent_to_words(sentences):\n",
    "    for sentence in sentences:\n",
    "        yield(gensim.utils.simple_preprocess(str(sentence), deacc=True))  # deacc=True removes punctuations\n",
    "data_words = list(sent_to_words(item_descriptions))\n",
    "print(data_words)"
   ]
  },
  {
   "cell_type": "code",
   "execution_count": 7,
   "metadata": {},
   "outputs": [
    {
     "name": "stderr",
     "output_type": "stream",
     "text": [
      "C:\\Users\\Barshana\\Anaconda3\\envs\\py36\\lib\\site-packages\\gensim\\models\\phrases.py:494: UserWarning: For a faster implementation, use the gensim.models.phrases.Phraser class\n",
      "  warnings.warn(\"For a faster implementation, use the gensim.models.phrases.Phraser class\")\n"
     ]
    }
   ],
   "source": [
    "# Build the bigram and trigram models\n",
    "bigram = gensim.models.Phrases(data_words, min_count=5, threshold=100) # higher threshold fewer phrases.\n",
    "trigram = gensim.models.Phrases(bigram[data_words], threshold=100)  \n",
    "\n",
    "# Faster way to get a sentence clubbed as a trigram/bigram\n",
    "bigram_mod = gensim.models.phrases.Phraser(bigram)\n",
    "trigram_mod = gensim.models.phrases.Phraser(trigram)"
   ]
  },
  {
   "cell_type": "code",
   "execution_count": 8,
   "metadata": {},
   "outputs": [],
   "source": [
    "def remove_stopwords(texts):\n",
    "    return [[word for word in simple_preprocess(str(doc)) if word not in stop_words] for doc in texts]\n",
    "\n",
    "def lemmatization(texts, allowed_postags=['NOUN', 'ADJ']):\n",
    "    texts_out = []\n",
    "    for sent in texts:\n",
    "        doc = nlp(\" \".join(sent)) \n",
    "        texts_out.append([token.lemma_ for token in doc if token.pos_ in allowed_postags])\n",
    "    return texts_out\n",
    "def make_bigrams(texts):\n",
    "    return [bigram_mod[doc] for doc in texts]"
   ]
  },
  {
   "cell_type": "code",
   "execution_count": 9,
   "metadata": {},
   "outputs": [
    {
     "name": "stdout",
     "output_type": "stream",
     "text": [
      "[['prime_location', 'waldbronn', 'hotel', 'sonne', 'puts_everything']]\n"
     ]
    }
   ],
   "source": [
    "# Remove Stop Words\n",
    "data_words_nostops = remove_stopwords(data_words)\n",
    "nlp = spacy.load('en', disable=['parser', 'ner'])\n",
    "\n",
    "\n",
    "data_words_bigrams = make_bigrams(data_words_nostops)\n",
    "# Do lemmatization keeping only noun, adj, vb, adv\n",
    "data_lemmatized = lemmatization(data_words_bigrams, allowed_postags=['NOUN', 'ADJ'])\n",
    "\n",
    "print(data_lemmatized[:1])"
   ]
  },
  {
   "cell_type": "code",
   "execution_count": 10,
   "metadata": {},
   "outputs": [
    {
     "name": "stdout",
     "output_type": "stream",
     "text": [
      "[[(0, 1), (1, 1), (2, 1), (3, 1), (4, 1)]]\n"
     ]
    }
   ],
   "source": [
    "# Create Dictionary\n",
    "id2word = corpora.Dictionary(data_lemmatized)\n",
    "\n",
    "# Create Corpus\n",
    "texts = data_lemmatized\n",
    "\n",
    "# Term Document Frequency\n",
    "corpus = [id2word.doc2bow(text) for text in texts]\n",
    "\n",
    "# View\n",
    "print(corpus[:1])\n",
    "#print(id2word[1])"
   ]
  },
  {
   "cell_type": "code",
   "execution_count": null,
   "metadata": {},
   "outputs": [],
   "source": [
    "# Build LDA model\n",
    "lda_model = gensim.models.ldamodel.LdaModel(corpus=corpus,id2word=id2word,num_topics=2, random_state=100,update_every=1,chunksize=100,passes=10,alpha='auto',per_word_topics=True)"
   ]
  },
  {
   "cell_type": "code",
   "execution_count": null,
   "metadata": {},
   "outputs": [],
   "source": [
    "# Print the Keyword in the 10 topics\n",
    "pprint(lda_model.print_topics())\n",
    "doc_lda = lda_model[corpus]"
   ]
  },
  {
   "cell_type": "code",
   "execution_count": null,
   "metadata": {},
   "outputs": [],
   "source": [
    "pyLDAvis.enable_notebook()\n",
    "vis = pyLDAvis.gensim.prepare(lda_model, corpus, id2word)\n",
    "vis"
   ]
  },
  {
   "cell_type": "code",
   "execution_count": null,
   "metadata": {},
   "outputs": [],
   "source": []
  }
 ],
 "metadata": {
  "kernelspec": {
   "display_name": "Python 3",
   "language": "python",
   "name": "python3"
  },
  "language_info": {
   "codemirror_mode": {
    "name": "ipython",
    "version": 3
   },
   "file_extension": ".py",
   "mimetype": "text/x-python",
   "name": "python",
   "nbconvert_exporter": "python",
   "pygments_lexer": "ipython3",
   "version": "3.6.8"
  }
 },
 "nbformat": 4,
 "nbformat_minor": 2
}
