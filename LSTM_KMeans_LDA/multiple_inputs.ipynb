{
 "cells": [
  {
   "cell_type": "code",
   "execution_count": 1,
   "metadata": {},
   "outputs": [
    {
     "name": "stderr",
     "output_type": "stream",
     "text": [
      "Using TensorFlow backend.\n"
     ]
    }
   ],
   "source": [
    "from keras.layers import Input, Embedding, LSTM, Dense, Bidirectional\n",
    "from keras.models import Model\n",
    "import keras\n",
    "import pandas as pd\n",
    "import numpy as np\n",
    "import tensorflow as tf\n",
    "import tensorflow_hub as hub\n",
    "from keras.callbacks import EarlyStopping, TensorBoard\n",
    "from keras.optimizers import Adam"
   ]
  },
  {
   "cell_type": "code",
   "execution_count": 15,
   "metadata": {},
   "outputs": [],
   "source": [
    "# Headline input: meant to receive sequences of 100 integers, between 1 and 10000.\n",
    "# Note that we can name any layer by passing it a \"name\" argument.\n",
    "main_input = Input(shape=(512,), dtype='float32', name='main_input')\n",
    "#print(main_input, main_input.shape)\n",
    "# This embedding layer will encode the input sequence\n",
    "# into a sequence of dense 512-dimensional vectors.\n",
    "x = Embedding(output_dim=512, input_dim=10000, input_length=512)(main_input)\n",
    "#print(x, x.shape)\n",
    "# A LSTM will transform the vector sequence into a single vector,\n",
    "# containing information about the entire sequence\n",
    "lstm_out = Bidirectional(LSTM(32))(x)"
   ]
  },
  {
   "cell_type": "code",
   "execution_count": 16,
   "metadata": {},
   "outputs": [
    {
     "name": "stdout",
     "output_type": "stream",
     "text": [
      "Tensor(\"main_input_1:0\", shape=(?, 512), dtype=float32)\n"
     ]
    }
   ],
   "source": [
    "print(main_input)"
   ]
  },
  {
   "cell_type": "code",
   "execution_count": 17,
   "metadata": {},
   "outputs": [],
   "source": [
    "x_ = Dense(64, activation='softmax')(lstm_out)\n",
    "x_ = Dense(64, activation='softmax')(x_)\n",
    "x_ = Dense(64, activation='softmax')(x_)\n",
    "auxiliary_output = Dense(1, activation='sigmoid', name='aux_output')(x_)"
   ]
  },
  {
   "cell_type": "code",
   "execution_count": 18,
   "metadata": {},
   "outputs": [
    {
     "data": {
      "text/plain": [
       "TensorShape([Dimension(None), Dimension(1)])"
      ]
     },
     "execution_count": 18,
     "metadata": {},
     "output_type": "execute_result"
    }
   ],
   "source": [
    "auxiliary_output.shape"
   ]
  },
  {
   "cell_type": "code",
   "execution_count": 19,
   "metadata": {},
   "outputs": [],
   "source": [
    "auxiliary_input1 = Input(shape=(1,), name='aux_input1')\n",
    "auxiliary_input2 = Input(shape=(1,), name='aux_input2')\n",
    "auxiliary_input3 = Input(shape=(1,), name='aux_input3')\n",
    "auxiliary_input4 = Input(shape=(1,), name='aux_input4')\n",
    "auxiliary_input5 = Input(shape=(1,), name='aux_input5')\n",
    "auxiliary_input6 = Input(shape=(1,), name='aux_input6')\n",
    "auxiliary_input7 = Input(shape=(1,), name='aux_input7')\n",
    "x = keras.layers.concatenate([lstm_out, auxiliary_input1,auxiliary_input2,auxiliary_input3,auxiliary_input4,auxiliary_input5,auxiliary_input6,auxiliary_input7])\n",
    "\n",
    "# We stack a deep densely-connected network on top\n",
    "x = Dense(64, activation='softmax')(x)\n",
    "x = Dense(64, activation='softmax')(x)\n",
    "x = Dense(64, activation='softmax')(x)\n",
    "\n",
    "# And finally we add the main logistic regression layer\n",
    "main_output = Dense(1, activation='sigmoid', name='main_output')(x)"
   ]
  },
  {
   "cell_type": "code",
   "execution_count": 20,
   "metadata": {},
   "outputs": [],
   "source": [
    "model = Model(inputs=[main_input, auxiliary_input1,auxiliary_input2,auxiliary_input3,auxiliary_input4,auxiliary_input5,auxiliary_input6,auxiliary_input7], outputs=[main_output, auxiliary_output])"
   ]
  },
  {
   "cell_type": "code",
   "execution_count": 7,
   "metadata": {},
   "outputs": [
    {
     "data": {
      "text/html": [
       "<div>\n",
       "<style scoped>\n",
       "    .dataframe tbody tr th:only-of-type {\n",
       "        vertical-align: middle;\n",
       "    }\n",
       "\n",
       "    .dataframe tbody tr th {\n",
       "        vertical-align: top;\n",
       "    }\n",
       "\n",
       "    .dataframe thead th {\n",
       "        text-align: right;\n",
       "    }\n",
       "</style>\n",
       "<table border=\"1\" class=\"dataframe\">\n",
       "  <thead>\n",
       "    <tr style=\"text-align: right;\">\n",
       "      <th></th>\n",
       "      <th>accommodation_id</th>\n",
       "      <th>basename</th>\n",
       "      <th>at</th>\n",
       "      <th>description</th>\n",
       "      <th>value_type_id</th>\n",
       "      <th>amenities_id</th>\n",
       "      <th>amenities_cont</th>\n",
       "      <th>label</th>\n",
       "      <th>sorted_amenities_id</th>\n",
       "      <th>a1</th>\n",
       "      <th>a2</th>\n",
       "      <th>a3</th>\n",
       "      <th>a4</th>\n",
       "      <th>a5</th>\n",
       "      <th>a6</th>\n",
       "      <th>a7</th>\n",
       "    </tr>\n",
       "  </thead>\n",
       "  <tbody>\n",
       "    <tr>\n",
       "      <th>0</th>\n",
       "      <td>5088</td>\n",
       "      <td>Hotel Sonne</td>\n",
       "      <td>2</td>\n",
       "      <td>Set in a prime location of Waldbronn, Hotel So...</td>\n",
       "      <td>1</td>\n",
       "      <td>[47]</td>\n",
       "      <td>[1]</td>\n",
       "      <td>0.0</td>\n",
       "      <td>[0, 0, 0, 47, 0, 0, 0]</td>\n",
       "      <td>0</td>\n",
       "      <td>0</td>\n",
       "      <td>0</td>\n",
       "      <td>47</td>\n",
       "      <td>0</td>\n",
       "      <td>0</td>\n",
       "      <td>0</td>\n",
       "    </tr>\n",
       "    <tr>\n",
       "      <th>1</th>\n",
       "      <td>5092</td>\n",
       "      <td>Steuermann</td>\n",
       "      <td>2</td>\n",
       "      <td>Ideally located in the prime touristic area of...</td>\n",
       "      <td>1</td>\n",
       "      <td>[63, 47]</td>\n",
       "      <td>[1, 1]</td>\n",
       "      <td>0.0</td>\n",
       "      <td>[0, 0, 0, 47, 0, 63, 0]</td>\n",
       "      <td>0</td>\n",
       "      <td>0</td>\n",
       "      <td>0</td>\n",
       "      <td>47</td>\n",
       "      <td>0</td>\n",
       "      <td>63</td>\n",
       "      <td>0</td>\n",
       "    </tr>\n",
       "    <tr>\n",
       "      <th>2</th>\n",
       "      <td>5323</td>\n",
       "      <td>Hotel Montree</td>\n",
       "      <td>2</td>\n",
       "      <td>Hotel Montree is conveniently located in the p...</td>\n",
       "      <td>1</td>\n",
       "      <td>[63, 48]</td>\n",
       "      <td>[1, 1]</td>\n",
       "      <td>0.0</td>\n",
       "      <td>[0, 0, 0, 0, 48, 63, 0]</td>\n",
       "      <td>0</td>\n",
       "      <td>0</td>\n",
       "      <td>0</td>\n",
       "      <td>0</td>\n",
       "      <td>48</td>\n",
       "      <td>63</td>\n",
       "      <td>0</td>\n",
       "    </tr>\n",
       "    <tr>\n",
       "      <th>3</th>\n",
       "      <td>5434</td>\n",
       "      <td>Weidenhof</td>\n",
       "      <td>2</td>\n",
       "      <td>The Weidenhof is a well-situated Hotel in Rege...</td>\n",
       "      <td>1</td>\n",
       "      <td>[48]</td>\n",
       "      <td>[1]</td>\n",
       "      <td>0.0</td>\n",
       "      <td>[0, 0, 0, 0, 48, 0, 0]</td>\n",
       "      <td>0</td>\n",
       "      <td>0</td>\n",
       "      <td>0</td>\n",
       "      <td>0</td>\n",
       "      <td>48</td>\n",
       "      <td>0</td>\n",
       "      <td>0</td>\n",
       "    </tr>\n",
       "    <tr>\n",
       "      <th>4</th>\n",
       "      <td>5668</td>\n",
       "      <td>East-Side</td>\n",
       "      <td>3</td>\n",
       "      <td>This guest house is located in Berlin’s trendy...</td>\n",
       "      <td>1</td>\n",
       "      <td>[255]</td>\n",
       "      <td>[1]</td>\n",
       "      <td>0.0</td>\n",
       "      <td>[0, 0, 0, 0, 0, 0, 255]</td>\n",
       "      <td>0</td>\n",
       "      <td>0</td>\n",
       "      <td>0</td>\n",
       "      <td>0</td>\n",
       "      <td>0</td>\n",
       "      <td>0</td>\n",
       "      <td>255</td>\n",
       "    </tr>\n",
       "  </tbody>\n",
       "</table>\n",
       "</div>"
      ],
      "text/plain": [
       "   accommodation_id       basename  at  \\\n",
       "0              5088    Hotel Sonne   2   \n",
       "1              5092     Steuermann   2   \n",
       "2              5323  Hotel Montree   2   \n",
       "3              5434      Weidenhof   2   \n",
       "4              5668      East-Side   3   \n",
       "\n",
       "                                         description  value_type_id  \\\n",
       "0  Set in a prime location of Waldbronn, Hotel So...              1   \n",
       "1  Ideally located in the prime touristic area of...              1   \n",
       "2  Hotel Montree is conveniently located in the p...              1   \n",
       "3  The Weidenhof is a well-situated Hotel in Rege...              1   \n",
       "4  This guest house is located in Berlin’s trendy...              1   \n",
       "\n",
       "  amenities_id amenities_cont  label      sorted_amenities_id  a1  a2  a3  a4  \\\n",
       "0         [47]            [1]    0.0   [0, 0, 0, 47, 0, 0, 0]   0   0   0  47   \n",
       "1     [63, 47]         [1, 1]    0.0  [0, 0, 0, 47, 0, 63, 0]   0   0   0  47   \n",
       "2     [63, 48]         [1, 1]    0.0  [0, 0, 0, 0, 48, 63, 0]   0   0   0   0   \n",
       "3         [48]            [1]    0.0   [0, 0, 0, 0, 48, 0, 0]   0   0   0   0   \n",
       "4        [255]            [1]    0.0  [0, 0, 0, 0, 0, 0, 255]   0   0   0   0   \n",
       "\n",
       "   a5  a6   a7  \n",
       "0   0   0    0  \n",
       "1   0  63    0  \n",
       "2  48  63    0  \n",
       "3  48   0    0  \n",
       "4   0   0  255  "
      ]
     },
     "execution_count": 7,
     "metadata": {},
     "output_type": "execute_result"
    }
   ],
   "source": [
    "'''Loading the input and pre-processing'''\n",
    "final_df = pd.read_csv('final_pre-processed_input.csv',sep=';',index_col=0)\n",
    "final_df.head()"
   ]
  },
  {
   "cell_type": "code",
   "execution_count": 8,
   "metadata": {},
   "outputs": [],
   "source": [
    "'''Loading the Universal Sentence Encoder'''\n",
    "\n",
    "def embed_model(model):\n",
    "    with tf.Graph().as_default():\n",
    "        sentences = tf.placeholder(tf.string)\n",
    "        embed = hub.Module(model)\n",
    "        #Reduces Logging\n",
    "        tf.logging.set_verbosity(tf.logging.ERROR)\n",
    "        embeddings = embed(sentences)\n",
    "        session = tf.train.MonitoredSession()\n",
    "    return lambda x: session.run(embeddings, {sentences: x})\n",
    "\n",
    "embedding_model = embed_model(\"embedding_model/\")"
   ]
  },
  {
   "cell_type": "code",
   "execution_count": 9,
   "metadata": {},
   "outputs": [],
   "source": [
    "descriptions_list = final_df['description'].tolist()\n",
    "embedding_item_list = embedding_model(descriptions_list)\n",
    "embedding_item_list = np.array(embedding_item_list)"
   ]
  },
  {
   "cell_type": "code",
   "execution_count": 10,
   "metadata": {},
   "outputs": [],
   "source": [
    "id_list1 = final_df['a1'].tolist()\n",
    "id_list2 = final_df['a2'].tolist()\n",
    "id_list3 = final_df['a3'].tolist()\n",
    "id_list4 = final_df['a4'].tolist()\n",
    "id_list5 = final_df['a5'].tolist()\n",
    "id_list6 = final_df['a6'].tolist()\n",
    "id_list7 = final_df['a7'].tolist()\n",
    "#print(type(id_list))\n",
    "id_list1 = np.array(id_list1)\n",
    "id_list2 = np.array(id_list2)\n",
    "id_list3 = np.array(id_list3)\n",
    "id_list4 = np.array(id_list4)\n",
    "id_list5 = np.array(id_list5)\n",
    "id_list6 = np.array(id_list6)\n",
    "id_list7 = np.array(id_list7)\n",
    "#print(id_list[:70])"
   ]
  },
  {
   "cell_type": "code",
   "execution_count": 11,
   "metadata": {},
   "outputs": [
    {
     "name": "stdout",
     "output_type": "stream",
     "text": [
      "6000\n"
     ]
    }
   ],
   "source": [
    "labels_one_hot = []\n",
    "for label in final_df['label'].tolist():\n",
    "    if label == 0:\n",
    "      labels_one_hot.append([1.])\n",
    "    else:\n",
    "      labels_one_hot.append([0.])\n",
    "labels_one_hot = np.array(labels_one_hot)\n",
    "print(len(labels_one_hot))"
   ]
  },
  {
   "cell_type": "code",
   "execution_count": 12,
   "metadata": {},
   "outputs": [],
   "source": [
    "import numpy as np\n",
    "from sklearn.model_selection import train_test_split\n",
    "x_train, x_test, y_train, y_test = train_test_split(embedding_item_list, labels_one_hot, test_size=.3)"
   ]
  },
  {
   "cell_type": "code",
   "execution_count": 21,
   "metadata": {},
   "outputs": [
    {
     "name": "stdout",
     "output_type": "stream",
     "text": [
      "__________________________________________________________________________________________________\n",
      "Layer (type)                    Output Shape         Param #     Connected to                     \n",
      "==================================================================================================\n",
      "main_input (InputLayer)         (None, 512)          0                                            \n",
      "__________________________________________________________________________________________________\n",
      "embedding_2 (Embedding)         (None, 512, 512)     5120000     main_input[0][0]                 \n",
      "__________________________________________________________________________________________________\n",
      "bidirectional_2 (Bidirectional) (None, 64)           139520      embedding_2[0][0]                \n",
      "__________________________________________________________________________________________________\n",
      "aux_input1 (InputLayer)         (None, 1)            0                                            \n",
      "__________________________________________________________________________________________________\n",
      "aux_input2 (InputLayer)         (None, 1)            0                                            \n",
      "__________________________________________________________________________________________________\n",
      "aux_input3 (InputLayer)         (None, 1)            0                                            \n",
      "__________________________________________________________________________________________________\n",
      "aux_input4 (InputLayer)         (None, 1)            0                                            \n",
      "__________________________________________________________________________________________________\n",
      "aux_input5 (InputLayer)         (None, 1)            0                                            \n",
      "__________________________________________________________________________________________________\n",
      "aux_input6 (InputLayer)         (None, 1)            0                                            \n",
      "__________________________________________________________________________________________________\n",
      "aux_input7 (InputLayer)         (None, 1)            0                                            \n",
      "__________________________________________________________________________________________________\n",
      "concatenate_2 (Concatenate)     (None, 71)           0           bidirectional_2[0][0]            \n",
      "                                                                 aux_input1[0][0]                 \n",
      "                                                                 aux_input2[0][0]                 \n",
      "                                                                 aux_input3[0][0]                 \n",
      "                                                                 aux_input4[0][0]                 \n",
      "                                                                 aux_input5[0][0]                 \n",
      "                                                                 aux_input6[0][0]                 \n",
      "                                                                 aux_input7[0][0]                 \n",
      "__________________________________________________________________________________________________\n",
      "dense_10 (Dense)                (None, 64)           4608        concatenate_2[0][0]              \n",
      "__________________________________________________________________________________________________\n",
      "dense_7 (Dense)                 (None, 64)           4160        bidirectional_2[0][0]            \n",
      "__________________________________________________________________________________________________\n",
      "dense_11 (Dense)                (None, 64)           4160        dense_10[0][0]                   \n",
      "__________________________________________________________________________________________________\n",
      "dense_8 (Dense)                 (None, 64)           4160        dense_7[0][0]                    \n",
      "__________________________________________________________________________________________________\n",
      "dense_12 (Dense)                (None, 64)           4160        dense_11[0][0]                   \n",
      "__________________________________________________________________________________________________\n",
      "dense_9 (Dense)                 (None, 64)           4160        dense_8[0][0]                    \n",
      "__________________________________________________________________________________________________\n",
      "main_output (Dense)             (None, 1)            65          dense_12[0][0]                   \n",
      "__________________________________________________________________________________________________\n",
      "aux_output (Dense)              (None, 1)            65          dense_9[0][0]                    \n",
      "==================================================================================================\n",
      "Total params: 5,285,058\n",
      "Trainable params: 5,285,058\n",
      "Non-trainable params: 0\n",
      "__________________________________________________________________________________________________\n"
     ]
    }
   ],
   "source": [
    "model.compile(optimizer=Adam(lr=0.0001, decay=1e-6),\n",
    "              loss={'main_output': 'binary_crossentropy', 'aux_output': 'binary_crossentropy'},\n",
    "              loss_weights={'main_output': 1., 'aux_output': 0.2},metrics=['accuracy'])\n",
    "tensorboard = TensorBoard(log_dir='logs/', histogram_freq=0, write_graph=True, write_images=True)\n",
    "\n",
    "model.summary()"
   ]
  },
  {
   "cell_type": "code",
   "execution_count": 22,
   "metadata": {},
   "outputs": [
    {
     "name": "stdout",
     "output_type": "stream",
     "text": [
      "Train on 4200 samples, validate on 1800 samples\n",
      "Epoch 1/15\n",
      "4200/4200 [==============================] - 164s 39ms/step - loss: 0.8406 - main_output_loss: 0.7035 - aux_output_loss: 0.6858 - main_output_acc: 0.1493 - aux_output_acc: 0.8507 - val_loss: 0.8401 - val_main_output_loss: 0.7030 - val_aux_output_loss: 0.6854 - val_main_output_acc: 0.1517 - val_aux_output_acc: 0.8483\n",
      "Epoch 2/15\n",
      "4200/4200 [==============================] - 179s 43ms/step - loss: 0.8398 - main_output_loss: 0.7027 - aux_output_loss: 0.6851 - main_output_acc: 0.1493 - aux_output_acc: 0.8507 - val_loss: 0.8392 - val_main_output_loss: 0.7023 - val_aux_output_loss: 0.6847 - val_main_output_acc: 0.1517 - val_aux_output_acc: 0.8483\n",
      "Epoch 3/15\n",
      "4200/4200 [==============================] - 172s 41ms/step - loss: 0.8389 - main_output_loss: 0.7020 - aux_output_loss: 0.6843 - main_output_acc: 0.1493 - aux_output_acc: 0.8507 - val_loss: 0.8383 - val_main_output_loss: 0.7015 - val_aux_output_loss: 0.6840 - val_main_output_acc: 0.1517 - val_aux_output_acc: 0.8483\n",
      "Epoch 4/15\n",
      "4200/4200 [==============================] - 167s 40ms/step - loss: 0.8380 - main_output_loss: 0.7013 - aux_output_loss: 0.6836 - main_output_acc: 0.1493 - aux_output_acc: 0.8507 - val_loss: 0.8375 - val_main_output_loss: 0.7008 - val_aux_output_loss: 0.6833 - val_main_output_acc: 0.1517 - val_aux_output_acc: 0.8483\n",
      "Epoch 5/15\n",
      "4200/4200 [==============================] - 171s 41ms/step - loss: 0.8372 - main_output_loss: 0.7006 - aux_output_loss: 0.6829 - main_output_acc: 0.1493 - aux_output_acc: 0.8507 - val_loss: 0.8366 - val_main_output_loss: 0.7001 - val_aux_output_loss: 0.6826 - val_main_output_acc: 0.1517 - val_aux_output_acc: 0.8483\n",
      "Epoch 6/15\n",
      "4200/4200 [==============================] - 176s 42ms/step - loss: 0.8363 - main_output_loss: 0.6998 - aux_output_loss: 0.6822 - main_output_acc: 0.1493 - aux_output_acc: 0.8507 - val_loss: 0.8358 - val_main_output_loss: 0.6994 - val_aux_output_loss: 0.6819 - val_main_output_acc: 0.1517 - val_aux_output_acc: 0.8483\n",
      "Epoch 7/15\n",
      "4200/4200 [==============================] - 172s 41ms/step - loss: 0.8354 - main_output_loss: 0.6991 - aux_output_loss: 0.6815 - main_output_acc: 0.1493 - aux_output_acc: 0.8507 - val_loss: 0.8349 - val_main_output_loss: 0.6987 - val_aux_output_loss: 0.6812 - val_main_output_acc: 0.1517 - val_aux_output_acc: 0.8483\n",
      "Epoch 8/15\n",
      "4200/4200 [==============================] - 180s 43ms/step - loss: 0.8346 - main_output_loss: 0.6984 - aux_output_loss: 0.6808 - main_output_acc: 0.1493 - aux_output_acc: 0.8507 - val_loss: 0.8340 - val_main_output_loss: 0.6979 - val_aux_output_loss: 0.6805 - val_main_output_acc: 0.1517 - val_aux_output_acc: 0.8483\n",
      "Epoch 9/15\n",
      "4200/4200 [==============================] - 182s 43ms/step - loss: 0.8337 - main_output_loss: 0.6977 - aux_output_loss: 0.6801 - main_output_acc: 0.1493 - aux_output_acc: 0.8507 - val_loss: 0.8332 - val_main_output_loss: 0.6972 - val_aux_output_loss: 0.6798 - val_main_output_acc: 0.1517 - val_aux_output_acc: 0.8483\n",
      "Epoch 10/15\n",
      "4200/4200 [==============================] - 189s 45ms/step - loss: 0.8328 - main_output_loss: 0.6970 - aux_output_loss: 0.6794 - main_output_acc: 0.1493 - aux_output_acc: 0.8507 - val_loss: 0.8323 - val_main_output_loss: 0.6965 - val_aux_output_loss: 0.6791 - val_main_output_acc: 0.1517 - val_aux_output_acc: 0.8483\n",
      "Epoch 11/15\n",
      "4200/4200 [==============================] - 176s 42ms/step - loss: 0.8320 - main_output_loss: 0.6962 - aux_output_loss: 0.6787 - main_output_acc: 0.1493 - aux_output_acc: 0.8507 - val_loss: 0.8315 - val_main_output_loss: 0.6958 - val_aux_output_loss: 0.6784 - val_main_output_acc: 0.1517 - val_aux_output_acc: 0.8483\n",
      "Epoch 12/15\n",
      "4200/4200 [==============================] - 179s 43ms/step - loss: 0.8311 - main_output_loss: 0.6955 - aux_output_loss: 0.6780 - main_output_acc: 0.1493 - aux_output_acc: 0.8507 - val_loss: 0.8306 - val_main_output_loss: 0.6951 - val_aux_output_loss: 0.6777 - val_main_output_acc: 0.1517 - val_aux_output_acc: 0.8483\n",
      "Epoch 13/15\n",
      "4200/4200 [==============================] - 402s 96ms/step - loss: 0.8303 - main_output_loss: 0.6948 - aux_output_loss: 0.6773 - main_output_acc: 0.1493 - aux_output_acc: 0.8507 - val_loss: 0.8298 - val_main_output_loss: 0.6944 - val_aux_output_loss: 0.6770 - val_main_output_acc: 0.1517 - val_aux_output_acc: 0.8483\n",
      "Epoch 14/15\n",
      "4200/4200 [==============================] - 465s 111ms/step - loss: 0.8294 - main_output_loss: 0.6941 - aux_output_loss: 0.6766 - main_output_acc: 0.1493 - aux_output_acc: 0.8507 - val_loss: 0.8289 - val_main_output_loss: 0.6937 - val_aux_output_loss: 0.6763 - val_main_output_acc: 0.1517 - val_aux_output_acc: 0.8483\n",
      "Epoch 15/15\n",
      "4200/4200 [==============================] - 467s 111ms/step - loss: 0.8286 - main_output_loss: 0.6934 - aux_output_loss: 0.6759 - main_output_acc: 0.2655 - aux_output_acc: 0.8507 - val_loss: 0.8281 - val_main_output_loss: 0.6930 - val_aux_output_loss: 0.6756 - val_main_output_acc: 0.8483 - val_aux_output_acc: 0.8483\n"
     ]
    },
    {
     "data": {
      "text/plain": [
       "<keras.callbacks.History at 0x208f794fa90>"
      ]
     },
     "execution_count": 22,
     "metadata": {},
     "output_type": "execute_result"
    }
   ],
   "source": [
    "# And trained it via:\n",
    "model.fit({'main_input': x_train, 'aux_input1': id_list1[:4200],'aux_input2': id_list2[:4200],'aux_input3': id_list3[:4200],'aux_input4': id_list4[:4200],'aux_input5': id_list5[:4200],'aux_input6': id_list6[:4200],'aux_input7': id_list7[:4200]},\n",
    "          {'main_output': y_train, 'aux_output': y_train},\n",
    "          epochs=15, batch_size=500,validation_data=({'main_input': x_test, 'aux_input1': id_list1[4200:], 'aux_input2': id_list2[4200:], 'aux_input3': id_list3[4200:], 'aux_input4': id_list4[4200:], 'aux_input5': id_list5[4200:], 'aux_input6': id_list6[4200:], 'aux_input7': id_list7[4200:]},\n",
    "          {'main_output': y_test, 'aux_output': y_test},), callbacks=[tensorboard, EarlyStopping(min_delta=0.0001, patience=3)])"
   ]
  },
  {
   "cell_type": "code",
   "execution_count": 55,
   "metadata": {},
   "outputs": [
    {
     "data": {
      "text/plain": [
       "['loss',\n",
       " 'main_output_loss',\n",
       " 'aux_output_loss',\n",
       " 'main_output_acc',\n",
       " 'aux_output_acc']"
      ]
     },
     "execution_count": 55,
     "metadata": {},
     "output_type": "execute_result"
    }
   ],
   "source": [
    "model.metrics_names"
   ]
  },
  {
   "cell_type": "code",
   "execution_count": 88,
   "metadata": {},
   "outputs": [
    {
     "name": "stdout",
     "output_type": "stream",
     "text": [
      "1800/1800 [==============================] - 6s 3ms/step\n"
     ]
    },
    {
     "data": {
      "text/plain": [
       "[0.5604336394204034,\n",
       " 0.4727787544992235,\n",
       " 0.43827442195680405,\n",
       " 0.8327777777777777,\n",
       " 0.8411111111111111]"
      ]
     },
     "execution_count": 88,
     "metadata": {},
     "output_type": "execute_result"
    }
   ],
   "source": [
    "model.evaluate({'main_input': x_test,'aux_input1': id_list1[4200:], 'aux_input2': id_list2[4200:], 'aux_input3': id_list3[4200:], 'aux_input4': id_list4[4200:], 'aux_input5': id_list5[4200:], 'aux_input6': id_list6[4200:], 'aux_input7': id_list7[4200:]},\n",
    "          {'main_output': y_test, 'aux_output': y_test})"
   ]
  },
  {
   "cell_type": "code",
   "execution_count": 57,
   "metadata": {},
   "outputs": [],
   "source": [
    "model.save('Multi_Input_LSTM.model')"
   ]
  },
  {
   "cell_type": "code",
   "execution_count": 63,
   "metadata": {},
   "outputs": [],
   "source": [
    "text = [\"OYO 19659 Home Studio With Verandah Vagator is the right choice if you want to stay close to Goa action while enjoying a comfortable stay. Maintained by a skilled and hospitable staff, we ensure to provide you an attentive and personalized service.       Designed per the needs of a contemporary traveller, you can find all the amenities such as Mini Fridge, Power backup, CCTV Cameras to your comfort.  While you are our guest, your safety is our top priority. We ensure to be equipped with firstaid, fire extinguisher and professional security all the time.  In case of any query, you can reach out to our helpdesk available 24hour. Be it any issue you face in the room or any guidance you need to explore the city, our staff is always there to assist you.    What's Nearby    Soak in the culture of the city while exploring its top attractions like Chapora Fort, Casino Palms and St. Cajetan Church.  In case you run out of cash midst your shopping spree, visit Indusland Atm, Kotak Mahindra Bank ATM and Axis Bank ATM located nearby.\"]\n",
    "\n",
    "test_input = embedding_model(text)\n",
    "test_embeddings = np.array(test_input)"
   ]
  },
  {
   "cell_type": "code",
   "execution_count": 75,
   "metadata": {},
   "outputs": [
    {
     "data": {
      "text/plain": [
       "(1, 1)"
      ]
     },
     "execution_count": 75,
     "metadata": {},
     "output_type": "execute_result"
    }
   ],
   "source": [
    "a1 = 13\n",
    "a1 = np.array([np.reshape(a1,1)])\n",
    "a2 = np.array(0)\n",
    "a3 = np.array(0)\n",
    "a4 = np.array(47)\n",
    "a5 = np.array(48)\n",
    "a6 = np.array(63)\n",
    "a7 = np.array(255)\n",
    "a1.shape"
   ]
  },
  {
   "cell_type": "code",
   "execution_count": 70,
   "metadata": {},
   "outputs": [
    {
     "ename": "ValueError",
     "evalue": "Error when checking input: expected aux_input1 to have 2 dimensions, but got array with shape ()",
     "output_type": "error",
     "traceback": [
      "\u001b[1;31m---------------------------------------------------------------------------\u001b[0m",
      "\u001b[1;31mValueError\u001b[0m                                Traceback (most recent call last)",
      "\u001b[1;32m<ipython-input-70-974d641b9318>\u001b[0m in \u001b[0;36m<module>\u001b[1;34m\u001b[0m\n\u001b[0;32m      1\u001b[0m \u001b[1;32mfrom\u001b[0m \u001b[0mkeras\u001b[0m\u001b[1;33m.\u001b[0m\u001b[0mmodels\u001b[0m \u001b[1;32mimport\u001b[0m \u001b[0mload_model\u001b[0m\u001b[1;33m\u001b[0m\u001b[1;33m\u001b[0m\u001b[0m\n\u001b[0;32m      2\u001b[0m \u001b[0mmodel\u001b[0m \u001b[1;33m=\u001b[0m \u001b[0mload_model\u001b[0m\u001b[1;33m(\u001b[0m\u001b[1;34m'Multi_Input_LSTM.model'\u001b[0m\u001b[1;33m)\u001b[0m\u001b[1;33m\u001b[0m\u001b[1;33m\u001b[0m\u001b[0m\n\u001b[1;32m----> 3\u001b[1;33m \u001b[0mprediction\u001b[0m \u001b[1;33m=\u001b[0m \u001b[0mmodel\u001b[0m\u001b[1;33m.\u001b[0m\u001b[0mpredict\u001b[0m\u001b[1;33m(\u001b[0m\u001b[1;33m[\u001b[0m\u001b[0mtest_embeddings\u001b[0m\u001b[1;33m,\u001b[0m\u001b[0ma1\u001b[0m\u001b[1;33m,\u001b[0m\u001b[0ma2\u001b[0m\u001b[1;33m,\u001b[0m\u001b[0ma3\u001b[0m\u001b[1;33m,\u001b[0m\u001b[0ma4\u001b[0m\u001b[1;33m,\u001b[0m\u001b[0ma5\u001b[0m\u001b[1;33m,\u001b[0m\u001b[0ma6\u001b[0m\u001b[1;33m,\u001b[0m\u001b[0ma7\u001b[0m\u001b[1;33m]\u001b[0m\u001b[1;33m)\u001b[0m\u001b[1;33m\u001b[0m\u001b[1;33m\u001b[0m\u001b[0m\n\u001b[0m\u001b[0;32m      4\u001b[0m \u001b[0mprint\u001b[0m\u001b[1;33m(\u001b[0m\u001b[0mprediction\u001b[0m\u001b[1;33m)\u001b[0m\u001b[1;33m\u001b[0m\u001b[1;33m\u001b[0m\u001b[0m\n",
      "\u001b[1;32m~\\Anaconda3\\envs\\py36\\lib\\site-packages\\keras\\engine\\training.py\u001b[0m in \u001b[0;36mpredict\u001b[1;34m(self, x, batch_size, verbose, steps)\u001b[0m\n\u001b[0;32m   1147\u001b[0m                              'argument.')\n\u001b[0;32m   1148\u001b[0m         \u001b[1;31m# Validate user data.\u001b[0m\u001b[1;33m\u001b[0m\u001b[1;33m\u001b[0m\u001b[1;33m\u001b[0m\u001b[0m\n\u001b[1;32m-> 1149\u001b[1;33m         \u001b[0mx\u001b[0m\u001b[1;33m,\u001b[0m \u001b[0m_\u001b[0m\u001b[1;33m,\u001b[0m \u001b[0m_\u001b[0m \u001b[1;33m=\u001b[0m \u001b[0mself\u001b[0m\u001b[1;33m.\u001b[0m\u001b[0m_standardize_user_data\u001b[0m\u001b[1;33m(\u001b[0m\u001b[0mx\u001b[0m\u001b[1;33m)\u001b[0m\u001b[1;33m\u001b[0m\u001b[1;33m\u001b[0m\u001b[0m\n\u001b[0m\u001b[0;32m   1150\u001b[0m         \u001b[1;32mif\u001b[0m \u001b[0mself\u001b[0m\u001b[1;33m.\u001b[0m\u001b[0mstateful\u001b[0m\u001b[1;33m:\u001b[0m\u001b[1;33m\u001b[0m\u001b[1;33m\u001b[0m\u001b[0m\n\u001b[0;32m   1151\u001b[0m             \u001b[1;32mif\u001b[0m \u001b[0mx\u001b[0m\u001b[1;33m[\u001b[0m\u001b[1;36m0\u001b[0m\u001b[1;33m]\u001b[0m\u001b[1;33m.\u001b[0m\u001b[0mshape\u001b[0m\u001b[1;33m[\u001b[0m\u001b[1;36m0\u001b[0m\u001b[1;33m]\u001b[0m \u001b[1;33m>\u001b[0m \u001b[0mbatch_size\u001b[0m \u001b[1;32mand\u001b[0m \u001b[0mx\u001b[0m\u001b[1;33m[\u001b[0m\u001b[1;36m0\u001b[0m\u001b[1;33m]\u001b[0m\u001b[1;33m.\u001b[0m\u001b[0mshape\u001b[0m\u001b[1;33m[\u001b[0m\u001b[1;36m0\u001b[0m\u001b[1;33m]\u001b[0m \u001b[1;33m%\u001b[0m \u001b[0mbatch_size\u001b[0m \u001b[1;33m!=\u001b[0m \u001b[1;36m0\u001b[0m\u001b[1;33m:\u001b[0m\u001b[1;33m\u001b[0m\u001b[1;33m\u001b[0m\u001b[0m\n",
      "\u001b[1;32m~\\Anaconda3\\envs\\py36\\lib\\site-packages\\keras\\engine\\training.py\u001b[0m in \u001b[0;36m_standardize_user_data\u001b[1;34m(self, x, y, sample_weight, class_weight, check_array_lengths, batch_size)\u001b[0m\n\u001b[0;32m    749\u001b[0m             \u001b[0mfeed_input_shapes\u001b[0m\u001b[1;33m,\u001b[0m\u001b[1;33m\u001b[0m\u001b[1;33m\u001b[0m\u001b[0m\n\u001b[0;32m    750\u001b[0m             \u001b[0mcheck_batch_axis\u001b[0m\u001b[1;33m=\u001b[0m\u001b[1;32mFalse\u001b[0m\u001b[1;33m,\u001b[0m  \u001b[1;31m# Don't enforce the batch size.\u001b[0m\u001b[1;33m\u001b[0m\u001b[1;33m\u001b[0m\u001b[0m\n\u001b[1;32m--> 751\u001b[1;33m             exception_prefix='input')\n\u001b[0m\u001b[0;32m    752\u001b[0m \u001b[1;33m\u001b[0m\u001b[0m\n\u001b[0;32m    753\u001b[0m         \u001b[1;32mif\u001b[0m \u001b[0my\u001b[0m \u001b[1;32mis\u001b[0m \u001b[1;32mnot\u001b[0m \u001b[1;32mNone\u001b[0m\u001b[1;33m:\u001b[0m\u001b[1;33m\u001b[0m\u001b[1;33m\u001b[0m\u001b[0m\n",
      "\u001b[1;32m~\\Anaconda3\\envs\\py36\\lib\\site-packages\\keras\\engine\\training_utils.py\u001b[0m in \u001b[0;36mstandardize_input_data\u001b[1;34m(data, names, shapes, check_batch_axis, exception_prefix)\u001b[0m\n\u001b[0;32m    126\u001b[0m                         \u001b[1;34m': expected '\u001b[0m \u001b[1;33m+\u001b[0m \u001b[0mnames\u001b[0m\u001b[1;33m[\u001b[0m\u001b[0mi\u001b[0m\u001b[1;33m]\u001b[0m \u001b[1;33m+\u001b[0m \u001b[1;34m' to have '\u001b[0m \u001b[1;33m+\u001b[0m\u001b[1;33m\u001b[0m\u001b[1;33m\u001b[0m\u001b[0m\n\u001b[0;32m    127\u001b[0m                         \u001b[0mstr\u001b[0m\u001b[1;33m(\u001b[0m\u001b[0mlen\u001b[0m\u001b[1;33m(\u001b[0m\u001b[0mshape\u001b[0m\u001b[1;33m)\u001b[0m\u001b[1;33m)\u001b[0m \u001b[1;33m+\u001b[0m \u001b[1;34m' dimensions, but got array '\u001b[0m\u001b[1;33m\u001b[0m\u001b[1;33m\u001b[0m\u001b[0m\n\u001b[1;32m--> 128\u001b[1;33m                         'with shape ' + str(data_shape))\n\u001b[0m\u001b[0;32m    129\u001b[0m                 \u001b[1;32mif\u001b[0m \u001b[1;32mnot\u001b[0m \u001b[0mcheck_batch_axis\u001b[0m\u001b[1;33m:\u001b[0m\u001b[1;33m\u001b[0m\u001b[1;33m\u001b[0m\u001b[0m\n\u001b[0;32m    130\u001b[0m                     \u001b[0mdata_shape\u001b[0m \u001b[1;33m=\u001b[0m \u001b[0mdata_shape\u001b[0m\u001b[1;33m[\u001b[0m\u001b[1;36m1\u001b[0m\u001b[1;33m:\u001b[0m\u001b[1;33m]\u001b[0m\u001b[1;33m\u001b[0m\u001b[1;33m\u001b[0m\u001b[0m\n",
      "\u001b[1;31mValueError\u001b[0m: Error when checking input: expected aux_input1 to have 2 dimensions, but got array with shape ()"
     ]
    }
   ],
   "source": [
    "from keras.models import load_model\n",
    "model = load_model('Multi_Input_LSTM.model')\n",
    "prediction = model.predict([test_embeddings,a1,a2,a3,a4,a5,a6,a7])\n",
    "print(prediction)"
   ]
  },
  {
   "cell_type": "code",
   "execution_count": null,
   "metadata": {},
   "outputs": [],
   "source": []
  }
 ],
 "metadata": {
  "kernelspec": {
   "display_name": "Python 3",
   "language": "python",
   "name": "python3"
  },
  "language_info": {
   "codemirror_mode": {
    "name": "ipython",
    "version": 3
   },
   "file_extension": ".py",
   "mimetype": "text/x-python",
   "name": "python",
   "nbconvert_exporter": "python",
   "pygments_lexer": "ipython3",
   "version": "3.6.8"
  }
 },
 "nbformat": 4,
 "nbformat_minor": 2
}
