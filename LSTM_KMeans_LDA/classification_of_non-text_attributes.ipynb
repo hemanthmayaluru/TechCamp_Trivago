{
 "cells": [
  {
   "cell_type": "code",
   "execution_count": 10,
   "metadata": {},
   "outputs": [],
   "source": [
    "from sklearn import svm\n",
    "from sklearn.model_selection import train_test_split\n",
    "from sklearn import metrics\n",
    "from sklearn.metrics import classification_report, confusion_matrix\n",
    "import matplotlib.pyplot as plt\n",
    "import numpy as np\n",
    "import pandas as pd"
   ]
  },
  {
   "cell_type": "code",
   "execution_count": 11,
   "metadata": {},
   "outputs": [
    {
     "data": {
      "text/html": [
       "<div>\n",
       "<style scoped>\n",
       "    .dataframe tbody tr th:only-of-type {\n",
       "        vertical-align: middle;\n",
       "    }\n",
       "\n",
       "    .dataframe tbody tr th {\n",
       "        vertical-align: top;\n",
       "    }\n",
       "\n",
       "    .dataframe thead th {\n",
       "        text-align: right;\n",
       "    }\n",
       "</style>\n",
       "<table border=\"1\" class=\"dataframe\">\n",
       "  <thead>\n",
       "    <tr style=\"text-align: right;\">\n",
       "      <th></th>\n",
       "      <th>accommodation_id</th>\n",
       "      <th>basename</th>\n",
       "      <th>at</th>\n",
       "      <th>description</th>\n",
       "      <th>value_type_id</th>\n",
       "      <th>amenities_id</th>\n",
       "      <th>amenities_cont</th>\n",
       "      <th>label</th>\n",
       "      <th>sorted_amenities_id</th>\n",
       "      <th>a1</th>\n",
       "      <th>a2</th>\n",
       "      <th>a3</th>\n",
       "      <th>a4</th>\n",
       "      <th>a5</th>\n",
       "      <th>a6</th>\n",
       "      <th>a7</th>\n",
       "    </tr>\n",
       "  </thead>\n",
       "  <tbody>\n",
       "    <tr>\n",
       "      <th>0</th>\n",
       "      <td>5088</td>\n",
       "      <td>Hotel Sonne</td>\n",
       "      <td>2</td>\n",
       "      <td>Set in a prime location of Waldbronn, Hotel So...</td>\n",
       "      <td>1</td>\n",
       "      <td>[47]</td>\n",
       "      <td>[1]</td>\n",
       "      <td>0.0</td>\n",
       "      <td>[0, 0, 0, 47, 0, 0, 0]</td>\n",
       "      <td>0</td>\n",
       "      <td>0</td>\n",
       "      <td>0</td>\n",
       "      <td>47</td>\n",
       "      <td>0</td>\n",
       "      <td>0</td>\n",
       "      <td>0</td>\n",
       "    </tr>\n",
       "    <tr>\n",
       "      <th>1</th>\n",
       "      <td>5092</td>\n",
       "      <td>Steuermann</td>\n",
       "      <td>2</td>\n",
       "      <td>Ideally located in the prime touristic area of...</td>\n",
       "      <td>1</td>\n",
       "      <td>[63, 47]</td>\n",
       "      <td>[1, 1]</td>\n",
       "      <td>0.0</td>\n",
       "      <td>[0, 0, 0, 47, 0, 63, 0]</td>\n",
       "      <td>0</td>\n",
       "      <td>0</td>\n",
       "      <td>0</td>\n",
       "      <td>47</td>\n",
       "      <td>0</td>\n",
       "      <td>63</td>\n",
       "      <td>0</td>\n",
       "    </tr>\n",
       "    <tr>\n",
       "      <th>2</th>\n",
       "      <td>5323</td>\n",
       "      <td>Hotel Montree</td>\n",
       "      <td>2</td>\n",
       "      <td>Hotel Montree is conveniently located in the p...</td>\n",
       "      <td>1</td>\n",
       "      <td>[63, 48]</td>\n",
       "      <td>[1, 1]</td>\n",
       "      <td>0.0</td>\n",
       "      <td>[0, 0, 0, 0, 48, 63, 0]</td>\n",
       "      <td>0</td>\n",
       "      <td>0</td>\n",
       "      <td>0</td>\n",
       "      <td>0</td>\n",
       "      <td>48</td>\n",
       "      <td>63</td>\n",
       "      <td>0</td>\n",
       "    </tr>\n",
       "    <tr>\n",
       "      <th>3</th>\n",
       "      <td>5434</td>\n",
       "      <td>Weidenhof</td>\n",
       "      <td>2</td>\n",
       "      <td>The Weidenhof is a well-situated Hotel in Rege...</td>\n",
       "      <td>1</td>\n",
       "      <td>[48]</td>\n",
       "      <td>[1]</td>\n",
       "      <td>0.0</td>\n",
       "      <td>[0, 0, 0, 0, 48, 0, 0]</td>\n",
       "      <td>0</td>\n",
       "      <td>0</td>\n",
       "      <td>0</td>\n",
       "      <td>0</td>\n",
       "      <td>48</td>\n",
       "      <td>0</td>\n",
       "      <td>0</td>\n",
       "    </tr>\n",
       "    <tr>\n",
       "      <th>4</th>\n",
       "      <td>5668</td>\n",
       "      <td>East-Side</td>\n",
       "      <td>3</td>\n",
       "      <td>This guest house is located in Berlin’s trendy...</td>\n",
       "      <td>1</td>\n",
       "      <td>[255]</td>\n",
       "      <td>[1]</td>\n",
       "      <td>0.0</td>\n",
       "      <td>[0, 0, 0, 0, 0, 0, 255]</td>\n",
       "      <td>0</td>\n",
       "      <td>0</td>\n",
       "      <td>0</td>\n",
       "      <td>0</td>\n",
       "      <td>0</td>\n",
       "      <td>0</td>\n",
       "      <td>255</td>\n",
       "    </tr>\n",
       "  </tbody>\n",
       "</table>\n",
       "</div>"
      ],
      "text/plain": [
       "   accommodation_id       basename  at  \\\n",
       "0              5088    Hotel Sonne   2   \n",
       "1              5092     Steuermann   2   \n",
       "2              5323  Hotel Montree   2   \n",
       "3              5434      Weidenhof   2   \n",
       "4              5668      East-Side   3   \n",
       "\n",
       "                                         description  value_type_id  \\\n",
       "0  Set in a prime location of Waldbronn, Hotel So...              1   \n",
       "1  Ideally located in the prime touristic area of...              1   \n",
       "2  Hotel Montree is conveniently located in the p...              1   \n",
       "3  The Weidenhof is a well-situated Hotel in Rege...              1   \n",
       "4  This guest house is located in Berlin’s trendy...              1   \n",
       "\n",
       "  amenities_id amenities_cont  label      sorted_amenities_id  a1  a2  a3  a4  \\\n",
       "0         [47]            [1]    0.0   [0, 0, 0, 47, 0, 0, 0]   0   0   0  47   \n",
       "1     [63, 47]         [1, 1]    0.0  [0, 0, 0, 47, 0, 63, 0]   0   0   0  47   \n",
       "2     [63, 48]         [1, 1]    0.0  [0, 0, 0, 0, 48, 63, 0]   0   0   0   0   \n",
       "3         [48]            [1]    0.0   [0, 0, 0, 0, 48, 0, 0]   0   0   0   0   \n",
       "4        [255]            [1]    0.0  [0, 0, 0, 0, 0, 0, 255]   0   0   0   0   \n",
       "\n",
       "   a5  a6   a7  \n",
       "0   0   0    0  \n",
       "1   0  63    0  \n",
       "2  48  63    0  \n",
       "3  48   0    0  \n",
       "4   0   0  255  "
      ]
     },
     "execution_count": 11,
     "metadata": {},
     "output_type": "execute_result"
    }
   ],
   "source": [
    "df = pd.read_csv('final_pre-processed_input.csv',sep=';',index_col=0)\n",
    "df.head()"
   ]
  },
  {
   "cell_type": "code",
   "execution_count": 12,
   "metadata": {},
   "outputs": [
    {
     "name": "stderr",
     "output_type": "stream",
     "text": [
      "C:\\Users\\Barshana\\Anaconda3\\envs\\py36\\lib\\site-packages\\sklearn\\utils\\validation.py:761: DataConversionWarning: A column-vector y was passed when a 1d array was expected. Please change the shape of y to (n_samples, ), for example using ravel().\n",
      "  y = column_or_1d(y, warn=True)\n"
     ]
    },
    {
     "name": "stdout",
     "output_type": "stream",
     "text": [
      "KERNEL:  linear\n",
      "[[1417  124]\n",
      " [  93  166]]\n"
     ]
    },
    {
     "data": {
      "image/png": "[encoded data removed]",
      "text/plain": [
       "<Figure size 432x288 with 2 Axes>"
      ]
     },
     "metadata": {
      "needs_background": "light"
     },
     "output_type": "display_data"
    },
    {
     "name": "stdout",
     "output_type": "stream",
     "text": [
      "              precision    recall  f1-score   support\n",
      "\n",
      "         0.0       0.94      0.92      0.93      1541\n",
      "         1.0       0.57      0.64      0.60       259\n",
      "\n",
      "   micro avg       0.88      0.88      0.88      1800\n",
      "   macro avg       0.76      0.78      0.77      1800\n",
      "weighted avg       0.89      0.88      0.88      1800\n",
      "\n"
     ]
    },
    {
     "name": "stderr",
     "output_type": "stream",
     "text": [
      "C:\\Users\\Barshana\\Anaconda3\\envs\\py36\\lib\\site-packages\\sklearn\\utils\\validation.py:761: DataConversionWarning: A column-vector y was passed when a 1d array was expected. Please change the shape of y to (n_samples, ), for example using ravel().\n",
      "  y = column_or_1d(y, warn=True)\n",
      "C:\\Users\\Barshana\\Anaconda3\\envs\\py36\\lib\\site-packages\\sklearn\\svm\\base.py:196: FutureWarning: The default value of gamma will change from 'auto' to 'scale' in version 0.22 to account better for unscaled features. Set gamma explicitly to 'auto' or 'scale' to avoid this warning.\n",
      "  \"avoid this warning.\", FutureWarning)\n"
     ]
    },
    {
     "name": "stdout",
     "output_type": "stream",
     "text": [
      "KERNEL:  rbf\n",
      "[[1441  100]\n",
      " [ 113  146]]\n"
     ]
    },
    {
     "data": {
      "image/png": "[encoded data removed]",
      "text/plain": [
       "<Figure size 432x288 with 2 Axes>"
      ]
     },
     "metadata": {
      "needs_background": "light"
     },
     "output_type": "display_data"
    },
    {
     "name": "stdout",
     "output_type": "stream",
     "text": [
      "              precision    recall  f1-score   support\n",
      "\n",
      "         0.0       0.93      0.94      0.93      1541\n",
      "         1.0       0.59      0.56      0.58       259\n",
      "\n",
      "   micro avg       0.88      0.88      0.88      1800\n",
      "   macro avg       0.76      0.75      0.75      1800\n",
      "weighted avg       0.88      0.88      0.88      1800\n",
      "\n"
     ]
    }
   ],
   "source": [
    "X = df[ ['a1','a2','a3','a4','a5','a6','a7']].values\n",
    "Y = df[['label']].values\n",
    "labels = [0,1]\n",
    "X_train , X_test, y_train, y_test = train_test_split(X,Y,test_size=.3)\n",
    "for kernel in ('linear','rbf'):\n",
    "    clf = svm.SVC(C=1.0, kernel=kernel).fit(X_train,y_train)\n",
    "    y_pred = clf.predict(X_test)\n",
    "    print(\"KERNEL: \", kernel)\n",
    "    #print(\"Accuracy :\",kernel ,metrics.accuracy_score(y_test, y_pred))\n",
    "    cm = confusion_matrix(y_test,y_pred,labels)\n",
    "    print(confusion_matrix(y_test,y_pred,labels))\n",
    "    fig = plt.figure()\n",
    "    ax = fig.add_subplot(111)\n",
    "    cax = ax.matshow(cm)\n",
    "    plt.title('Confusion matrix')\n",
    "    fig.colorbar(cax)\n",
    "    ax.set_xticklabels([''] + labels)\n",
    "    ax.set_yticklabels([''] + labels)\n",
    "    plt.xlabel('Predicted')\n",
    "    plt.ylabel('True')\n",
    "    plt.show()\n",
    "    print(classification_report(y_test,y_pred))"
   ]
  },
  {
   "cell_type": "code",
   "execution_count": null,
   "metadata": {},
   "outputs": [],
   "source": []
  }
 ],
 "metadata": {
  "kernelspec": {
   "display_name": "Python 3",
   "language": "python",
   "name": "python3"
  },
  "language_info": {
   "codemirror_mode": {
    "name": "ipython",
    "version": 3
   },
   "file_extension": ".py",
   "mimetype": "text/x-python",
   "name": "python",
   "nbconvert_exporter": "python",
   "pygments_lexer": "ipython3",
   "version": "3.6.8"
  }
 },
 "nbformat": 4,
 "nbformat_minor": 2
}
